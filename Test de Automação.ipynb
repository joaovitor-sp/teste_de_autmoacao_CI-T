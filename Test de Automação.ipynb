{
 "cells": [
  {
   "cell_type": "code",
   "execution_count": 45,
   "id": "76f7e7d2-5ced-43cd-ae47-bd7f54d2035e",
   "metadata": {},
   "outputs": [],
   "source": [
    "from selenium import webdriver\n",
    "from webdriver_manager.chrome import ChromeDriverManager\n",
    "from selenium.webdriver.chrome.service import Service\n",
    "\n",
    "servico = Service(ChromeDriverManager().install())\n",
    "\n",
    "navegador = webdriver.Chrome(service=servico)  \n",
    "\n"
   ]
  },
  {
   "cell_type": "code",
   "execution_count": 47,
   "id": "0193bfff-f115-4096-9382-084e787378bd",
   "metadata": {},
   "outputs": [],
   "source": [
    "navegador.get(\"https://opentdb.com/browse.php\")\n"
   ]
  },
  {
   "cell_type": "code",
   "execution_count": 49,
   "id": "cda395b0-c6ef-4e5d-bfe7-74af0140d398",
   "metadata": {},
   "outputs": [],
   "source": [
    "navegador.find_element('xpath', '//*[@id=\"query\"]').send_keys(\"Science: Computers\")\n",
    "navegador.find_element('xpath', '//*[@id=\"page-top\"]/div[1]/form/div/button').click()"
   ]
  },
  {
   "cell_type": "code",
   "execution_count": 51,
   "id": "1165d64d-63e2-4008-be05-112c8fc31824",
   "metadata": {},
   "outputs": [],
   "source": [
    "navegador.find_element('xpath', '//*[@id=\"query\"]').clear()"
   ]
  },
  {
   "cell_type": "code",
   "execution_count": 53,
   "id": "9bd85bf6-a938-42bf-871d-b67b3596617b",
   "metadata": {},
   "outputs": [],
   "source": [
    "navegador.find_element('xpath', '//*[@id=\"query\"]').send_keys(\"What does GPS stand for?\")\n",
    "navegador.find_element('xpath', '//*[@id=\"page-top\"]/div[1]/form/div/button').click()"
   ]
  }
 ],
 "metadata": {
  "kernelspec": {
   "display_name": "Python 3 (ipykernel)",
   "language": "python",
   "name": "python3"
  },
  "language_info": {
   "codemirror_mode": {
    "name": "ipython",
    "version": 3
   },
   "file_extension": ".py",
   "mimetype": "text/x-python",
   "name": "python",
   "nbconvert_exporter": "python",
   "pygments_lexer": "ipython3",
   "version": "3.12.4"
  }
 },
 "nbformat": 4,
 "nbformat_minor": 5
}
